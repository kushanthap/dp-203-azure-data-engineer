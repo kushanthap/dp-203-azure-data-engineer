{
 "cells": [
  {
   "cell_type": "code",
   "execution_count": 0,
   "metadata": {
    "application/vnd.databricks.v1+cell": {
     "cellMetadata": {},
     "inputWidgets": {},
     "nuid": "6ac59f4d-97b8-4cd3-a6aa-bd9b31121e9e",
     "showTitle": false,
     "tableResultSettingsMap": {},
     "title": ""
    }
   },
   "outputs": [],
   "source": [
    " CREATE OR REFRESH LIVE TABLE raw_covid_data\n",
    " COMMENT \"COVID sample dataset. This data was ingested from the COVID-19 Data Repository by the Center for Systems Science and Engineering (CSSE) at Johns Hopkins University.\"\n",
    " AS\n",
    " SELECT\n",
    "   Last_Update,\n",
    "   Country_Region,\n",
    "   Confirmed,\n",
    "   Deaths,\n",
    "   Recovered\n",
    " FROM read_files('dbfs:/data/lab26a/covid_data.csv', format => 'csv', header => true)"
   ]
  },
  {
   "cell_type": "code",
   "execution_count": 0,
   "metadata": {
    "application/vnd.databricks.v1+cell": {
     "cellMetadata": {},
     "inputWidgets": {},
     "nuid": "0b9dd3f9-f80e-4d74-b693-e0946825d886",
     "showTitle": false,
     "tableResultSettingsMap": {},
     "title": ""
    }
   },
   "outputs": [],
   "source": [
    " CREATE OR REFRESH LIVE TABLE processed_covid_data(\n",
    "   CONSTRAINT valid_country_region EXPECT (Country_Region IS NOT NULL) ON VIOLATION FAIL UPDATE\n",
    " )\n",
    " COMMENT \"Formatted and filtered data for analysis.\"\n",
    " AS\n",
    " SELECT\n",
    "     TO_DATE(Last_Update, 'MM/dd/yyyy') as Report_Date,\n",
    "     Country_Region,\n",
    "     Confirmed,\n",
    "     Deaths,\n",
    "     Recovered\n",
    " FROM live.raw_covid_data;"
   ]
  },
  {
   "cell_type": "code",
   "execution_count": 0,
   "metadata": {
    "application/vnd.databricks.v1+cell": {
     "cellMetadata": {},
     "inputWidgets": {},
     "nuid": "2ae9dd26-a877-485a-bbe4-0f1d49cedb38",
     "showTitle": false,
     "tableResultSettingsMap": {},
     "title": ""
    }
   },
   "outputs": [],
   "source": [
    " CREATE OR REFRESH LIVE TABLE aggregated_covid_data\n",
    " COMMENT \"Aggregated daily data for the US with total counts.\"\n",
    " AS\n",
    " SELECT\n",
    "     Report_Date,\n",
    "     sum(Confirmed) as Total_Confirmed,\n",
    "     sum(Deaths) as Total_Deaths,\n",
    "     sum(Recovered) as Total_Recovered\n",
    " FROM live.processed_covid_data\n",
    " GROUP BY Report_Date;"
   ]
  }
 ],
 "metadata": {
  "application/vnd.databricks.v1+notebook": {
   "computePreferences": null,
   "dashboards": [],
   "environmentMetadata": {
    "base_environment": "",
    "client": "1"
   },
   "language": "sql",
   "notebookMetadata": {
    "pythonIndentUnit": 4
   },
   "notebookName": "26b Pipeline Notebook",
   "widgets": {}
  },
  "language_info": {
   "name": "sql"
  }
 },
 "nbformat": 4,
 "nbformat_minor": 0
}
